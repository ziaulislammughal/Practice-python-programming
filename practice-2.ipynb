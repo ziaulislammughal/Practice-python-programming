{
 "cells": [
  {
   "cell_type": "markdown",
   "metadata": {},
   "source": [
    "# Operators\n",
    "\n",
    "- Arithmetic, comparison, logical, bitwise, and assignment operators\n",
    "- Operator precedence and associativity"
   ]
  },
  {
   "cell_type": "markdown",
   "metadata": {},
   "source": [
    "# Control Flow\n",
    "\n",
    "- Conditional statements (if, else, elif)"
   ]
  },
  {
   "cell_type": "markdown",
   "metadata": {},
   "source": [
    "1. Arithmetic and Comparison Operators"
   ]
  },
  {
   "cell_type": "code",
   "execution_count": 89,
   "metadata": {},
   "outputs": [
    {
     "name": "stdout",
     "output_type": "stream",
     "text": [
      "100 is greater tha  20\n",
      "Num1 is greater\n"
     ]
    }
   ],
   "source": [
    "num1 = int(input(\"Enter 1st number \"))\n",
    "num2 = int(input(\"Enter 2nd number \"))\n",
    "\n",
    "if num1 > num2 : \n",
    "    print(num1, \"is greater tha \", num2)\n",
    "    print(\"Num1 is greater\")\n",
    "elif num2 > num1 :\n",
    "    print(num2, \"is greater than \", num1)\n",
    "    print(\"Num2 is greater \")\n",
    "else:\n",
    "    print(num1, \"and \", num2, \"are equal\")"
   ]
  },
  {
   "cell_type": "markdown",
   "metadata": {},
   "source": [
    "2. Logical Operators with Conditionals\n",
    "- And (*)\n",
    "- Or  (+)\n",
    "- Not (invert)"
   ]
  },
  {
   "cell_type": "code",
   "execution_count": 90,
   "metadata": {},
   "outputs": [
    {
     "name": "stdout",
     "output_type": "stream",
     "text": [
      "22 is positive and even\n"
     ]
    }
   ],
   "source": [
    "# Question: Write a program to check if a given number is positive and even.\n",
    "\n",
    "num = int(input(\"Enter a number \"))\n",
    "\n",
    "if num > 0 and num % 2 == 0 :\n",
    "    print(num, \"is positive and even\")\n",
    "elif num == 0 :\n",
    "    print(num, \"is zero\")\n",
    "elif num % 2 != 0 :\n",
    "    print(\"num is odd\")\n",
    "else:\n",
    "    print(num, \"is not positive or even\")"
   ]
  },
  {
   "cell_type": "markdown",
   "metadata": {},
   "source": [
    "3. Assignment Operators\n",
    "- Question: \n",
    "Write a program that initializes a variable to 5, then uses assignment operators to multiply it by 2, add 10, and subtract 3, printing the result after each operation."
   ]
  },
  {
   "cell_type": "code",
   "execution_count": null,
   "metadata": {},
   "outputs": [],
   "source": [
    "num = 5 \n",
    "print(\"Original number \" , num )\n",
    "\n",
    "num -= 3 # num = num - 3 \n",
    "          # num = 5 - 3\n",
    "          # num = 2\n",
    "print(num)"
   ]
  },
  {
   "cell_type": "markdown",
   "metadata": {},
   "source": [
    "4. Bitwise Operators\n",
    "\n",
    "- Question:\n",
    " Write a program to perform bitwise AND, OR, and XOR operations on two numbers."
   ]
  },
  {
   "cell_type": "code",
   "execution_count": null,
   "metadata": {},
   "outputs": [],
   "source": [
    "a = 5 \n",
    "b = 3 \n",
    "\n",
    "# Bitwise AND operation\n",
    "\n",
    "result_and = a & b\n",
    "print(\"Bitwise AND result is \", result_and) \n",
    "\n",
    "# Bitwise OR operation \n",
    "\n",
    "result_or = a | b\n",
    "print(\"Bitwise OR result is \", result_or)\n",
    "\n",
    "\n",
    "# Bitwise XOR operation\n",
    "\n",
    "result_xor = a ^ b\n",
    "print(\"Bitwise XOR result is \", result_xor)\n",
    "\n"
   ]
  },
  {
   "cell_type": "markdown",
   "metadata": {},
   "source": [
    "5. Conditional Statements and Comparison Operators\n",
    "\n",
    "- Question: \n",
    "\n",
    "            Write a program that asks for a user’s age and prints if they are a minor (under 18), an adult (18–60), or a senior (above 60)."
   ]
  },
  {
   "cell_type": "code",
   "execution_count": null,
   "metadata": {},
   "outputs": [],
   "source": [
    "age = int(input(\"Enter your age: \")) \n",
    "\n",
    "if age < 18:\n",
    "    print(\"Minor\")\n",
    "elif 18 <= age <= 60 :\n",
    "    print(\"Adult\")\n",
    "else:\n",
    "    print(\"Senior\")"
   ]
  },
  {
   "cell_type": "markdown",
   "metadata": {},
   "source": [
    " # Control Flow\n",
    "\n",
    "- Loops (for, while, break, continue, pass)\n"
   ]
  },
  {
   "cell_type": "code",
   "execution_count": 91,
   "metadata": {},
   "outputs": [
    {
     "name": "stdout",
     "output_type": "stream",
     "text": [
      "1\n",
      "2\n",
      "3\n",
      "4\n",
      "5\n",
      "6\n",
      "7\n",
      "8\n",
      "9\n",
      "10\n"
     ]
    }
   ],
   "source": [
    "for i in range(1 , 11):\n",
    "    print(i)"
   ]
  },
  {
   "cell_type": "code",
   "execution_count": 92,
   "metadata": {},
   "outputs": [
    {
     "name": "stdout",
     "output_type": "stream",
     "text": [
      "1\n",
      "2\n",
      "3\n",
      "4\n",
      "5\n",
      "6\n",
      "7\n",
      "8\n",
      "9\n",
      "10\n"
     ]
    }
   ],
   "source": [
    "i = 1 \n",
    "while i <= 10 :\n",
    "    print(i)\n",
    "    i = i + 1 "
   ]
  },
  {
   "cell_type": "code",
   "execution_count": 93,
   "metadata": {},
   "outputs": [
    {
     "name": "stdout",
     "output_type": "stream",
     "text": [
      "1\n",
      "2\n",
      "3\n",
      "4\n"
     ]
    }
   ],
   "source": [
    "for i in range(1,10):\n",
    "    if i == 5 :\n",
    "        break\n",
    "    print(i)"
   ]
  },
  {
   "cell_type": "code",
   "execution_count": 94,
   "metadata": {},
   "outputs": [
    {
     "name": "stdout",
     "output_type": "stream",
     "text": [
      "1\n",
      "2\n",
      "3\n",
      "4\n",
      "6\n",
      "7\n",
      "8\n",
      "9\n"
     ]
    }
   ],
   "source": [
    "for i in range(1,10):\n",
    "    if i == 5 :\n",
    "        continue\n",
    "    print(i)"
   ]
  },
  {
   "cell_type": "code",
   "execution_count": 95,
   "metadata": {},
   "outputs": [
    {
     "name": "stdout",
     "output_type": "stream",
     "text": [
      "1\n",
      "2\n",
      "3\n",
      "4\n",
      "5\n"
     ]
    }
   ],
   "source": [
    "for i in range(1 , 6 ):\n",
    "    if i == 3 :\n",
    "        pass \n",
    "    print(i)"
   ]
  },
  {
   "cell_type": "code",
   "execution_count": 96,
   "metadata": {},
   "outputs": [
    {
     "name": "stdout",
     "output_type": "stream",
     "text": [
      "5 10 15 20 25 30 35 40 45 50 \n"
     ]
    }
   ],
   "source": [
    "for i in range(5,6): # 3 \n",
    "    for j in range(1,11): # 1 2 3 \n",
    "        print( i * j , end = \" \") # 3 , 6, 3\n",
    "    print()"
   ]
  },
  {
   "cell_type": "code",
   "execution_count": 97,
   "metadata": {},
   "outputs": [
    {
     "name": "stdout",
     "output_type": "stream",
     "text": [
      "you enterd word: \n",
      "you enterd word: zia ul islam mughal stop\n",
      "Loop end successfully\n"
     ]
    }
   ],
   "source": [
    "while True :\n",
    "    word = input(\"Enter a sentence :\")\n",
    "    if word.lower() == \"stop\": \n",
    "        print(\"Loop end successfully\")\n",
    "        break \n",
    "    print(f\"you enterd word: {word}\")"
   ]
  },
  {
   "cell_type": "code",
   "execution_count": null,
   "metadata": {},
   "outputs": [],
   "source": [
    "num = int(input(\"Input number : \"))\n",
    "if num < 2 :\n",
    "    print(\"NOT PRIME\")\n",
    "else: \n",
    "    for i in range(2 , int(num ** 0.5) + 1 ):\n",
    "        if num % i == 0 :\n",
    "            print(\"Not prime\")\n",
    "            break \n",
    "    else :\n",
    "        print(\"Prime number\")"
   ]
  },
  {
   "cell_type": "code",
   "execution_count": null,
   "metadata": {},
   "outputs": [],
   "source": [
    "n = 5 \n",
    "\n",
    "for i in range(n , 0 , -1 ):\n",
    "    print(\"* \" * i)"
   ]
  },
  {
   "cell_type": "code",
   "execution_count": 99,
   "metadata": {},
   "outputs": [
    {
     "name": "stdout",
     "output_type": "stream",
     "text": [
      "    * \n",
      "   * * \n",
      "  * * * \n",
      " * * * * \n",
      "* * * * * \n",
      " * * * * \n",
      "  * * * \n",
      "   * * \n",
      "    * \n"
     ]
    }
   ],
   "source": [
    "n = 5 \n",
    "for i in range( 1 , n+1):\n",
    "    print(\" \" * (n-i) + \"* \" * i)\n",
    "    \n",
    "for i in range(n-1, 0 ,-1):\n",
    "        print(\" \" * (n-i) + \"* \" * i)\n",
    "\n",
    "    \n",
    "    \n",
    "    \n"
   ]
  },
  {
   "cell_type": "code",
   "execution_count": 98,
   "metadata": {},
   "outputs": [
    {
     "name": "stdout",
     "output_type": "stream",
     "text": [
      "1 \n",
      "2 2 \n",
      "3 3 3 \n",
      "4 4 4 4 \n",
      "5 5 5 5 5 \n"
     ]
    }
   ],
   "source": [
    "n = 6 \n",
    "for i in range(1 , n):\n",
    "    print((str(i) + \" \")*i)"
   ]
  },
  {
   "cell_type": "code",
   "execution_count": null,
   "metadata": {},
   "outputs": [],
   "source": []
  }
 ],
 "metadata": {
  "kernelspec": {
   "display_name": "Python 3",
   "language": "python",
   "name": "python3"
  },
  "language_info": {
   "codemirror_mode": {
    "name": "ipython",
    "version": 3
   },
   "file_extension": ".py",
   "mimetype": "text/x-python",
   "name": "python",
   "nbconvert_exporter": "python",
   "pygments_lexer": "ipython3",
   "version": "3.12.4"
  }
 },
 "nbformat": 4,
 "nbformat_minor": 2
}
