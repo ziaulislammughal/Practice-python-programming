{
 "cells": [
  {
   "cell_type": "code",
   "execution_count": 10,
   "metadata": {},
   "outputs": [
    {
     "name": "stdout",
     "output_type": "stream",
     "text": [
      "Helow zia\n"
     ]
    }
   ],
   "source": [
    "print(\"Helow zia\")"
   ]
  },
  {
   "cell_type": "markdown",
   "metadata": {},
   "source": [
    "This code snippet is iterating over each element in the \n",
    "list and printing out a message that includes the element itself and its data type.\n"
   ]
  },
  {
   "cell_type": "code",
   "execution_count": 11,
   "metadata": {},
   "outputs": [
    {
     "name": "stdout",
     "output_type": "stream",
     "text": [
      "list element is: 1 and datatype is int\n",
      "list element is: 2 and datatype is int\n",
      "list element is: 3 and datatype is int\n",
      "list element is: zia and datatype is str\n",
      "list element is: 11254.2 and datatype is float\n",
      "list element is: True and datatype is bool\n"
     ]
    }
   ],
   "source": [
    "list = [1,2,3,\"zia\",11254.2,True]\n",
    "for i in list:\n",
    "    print(f\"list element is: {i} and datatype is {type(i).__name__}\")\n",
    "    "
   ]
  },
  {
   "cell_type": "markdown",
   "metadata": {},
   "source": [
    "# Functions "
   ]
  },
  {
   "cell_type": "code",
   "execution_count": 12,
   "metadata": {},
   "outputs": [],
   "source": [
    "# how to made a functions \n",
    "# program add two numbers \n",
    "\n",
    "def add_numbers(a ,b ):\n",
    "    return a + b\n",
    "\n",
    "\n",
    "def geometricmean(a,b):\n",
    "    return (a * b) ** 0.5"
   ]
  },
  {
   "cell_type": "code",
   "execution_count": 13,
   "metadata": {},
   "outputs": [
    {
     "name": "stdout",
     "output_type": "stream",
     "text": [
      "54.0\n"
     ]
    }
   ],
   "source": [
    "a = int(input(\"Enter value of a \\n:\"))\n",
    "b = int(input(\"Enter value of b \\n:\"))\n",
    "print(geometricmean(a,b))\n"
   ]
  },
  {
   "cell_type": "code",
   "execution_count": 14,
   "metadata": {},
   "outputs": [],
   "source": [
    "def isgreater(A,b):\n",
    "    pass "
   ]
  },
  {
   "cell_type": "markdown",
   "metadata": {},
   "source": [
    "Defualt Argument "
   ]
  },
  {
   "cell_type": "code",
   "execution_count": 18,
   "metadata": {},
   "outputs": [],
   "source": [
    "def  greet(name):\n",
    "    print(f\"hellow , {name}\")\n",
    "    \n",
    "    "
   ]
  },
  {
   "cell_type": "code",
   "execution_count": 20,
   "metadata": {},
   "outputs": [
    {
     "name": "stdout",
     "output_type": "stream",
     "text": [
      "hellow , ABC\n"
     ]
    }
   ],
   "source": [
    "greet(\"ABC\")"
   ]
  },
  {
   "cell_type": "code",
   "execution_count": 21,
   "metadata": {},
   "outputs": [],
   "source": [
    "def name(fn , sn):\n",
    "    print(f\"your name is {fn} {sn}\")"
   ]
  },
  {
   "cell_type": "code",
   "execution_count": 22,
   "metadata": {},
   "outputs": [
    {
     "name": "stdout",
     "output_type": "stream",
     "text": [
      "your name is Zia ul islam  Mughal\n"
     ]
    }
   ],
   "source": [
    "name(sn=\"Mughal\" , fn =\"Zia ul islam \")"
   ]
  },
  {
   "cell_type": "code",
   "execution_count": 29,
   "metadata": {},
   "outputs": [],
   "source": [
    "def add_numbers(*numbers):\n",
    "    total = 0 \n",
    "    for num in numbers:\n",
    "        total += num # total = total+num  \n",
    "    return total\n",
    "    "
   ]
  },
  {
   "cell_type": "code",
   "execution_count": 30,
   "metadata": {},
   "outputs": [
    {
     "name": "stdout",
     "output_type": "stream",
     "text": [
      "10\n"
     ]
    }
   ],
   "source": [
    "print(add_numbers(1,2,5,2))"
   ]
  },
  {
   "cell_type": "code",
   "execution_count": 35,
   "metadata": {},
   "outputs": [],
   "source": [
    "def calculate_discount(**kwargs):\n",
    "    price = kwargs.get('price')\n",
    "    discount = kwargs.get('discount')\n",
    "    final_price = price - (price * discount / 100)\n",
    "    print(f\"Product : {kwargs.get('name')} , final price is {final_price:.2f}\")"
   ]
  },
  {
   "cell_type": "code",
   "execution_count": 36,
   "metadata": {},
   "outputs": [
    {
     "name": "stdout",
     "output_type": "stream",
     "text": [
      "Product : Laptop , final price is 40810.00\n"
     ]
    }
   ],
   "source": [
    "calculate_discount(name=\"Laptop\" , price = 53000 , discount = 23)"
   ]
  },
  {
   "cell_type": "code",
   "execution_count": null,
   "metadata": {},
   "outputs": [],
   "source": []
  }
 ],
 "metadata": {
  "kernelspec": {
   "display_name": "Python 3",
   "language": "python",
   "name": "python3"
  },
  "language_info": {
   "codemirror_mode": {
    "name": "ipython",
    "version": 3
   },
   "file_extension": ".py",
   "mimetype": "text/x-python",
   "name": "python",
   "nbconvert_exporter": "python",
   "pygments_lexer": "ipython3",
   "version": "3.13.0"
  }
 },
 "nbformat": 4,
 "nbformat_minor": 2
}
