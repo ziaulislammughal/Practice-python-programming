{
 "cells": [
  {
   "cell_type": "markdown",
   "metadata": {},
   "source": [
    "# What is a Set in Python?\n",
    "A set in Python is an unordered collection of unique elements. It is defined using curly braces {} or the set() function. Sets do not allow duplicate values and are useful for operations like union, intersection, and difference."
   ]
  },
  {
   "cell_type": "code",
   "execution_count": 10,
   "metadata": {},
   "outputs": [
    {
     "name": "stdout",
     "output_type": "stream",
     "text": [
      "{1, 2.3, 3, 2, 4, 5, 8}\n",
      "{1, 2.3, 3, 2, 4, 5, 8, 90}\n",
      "{2.3, 3, 2, 4, 5, 8, 90}\n",
      "set\n"
     ]
    }
   ],
   "source": [
    "myset = {1,2.3,2,2,8,3,4,5}\n",
    "print(myset)\n",
    "\n",
    "# ADDING \n",
    "myset.add(90)\n",
    "print(myset)\n",
    "# REMOVING \n",
    "myset.remove(1)\n",
    "print(myset)\n",
    "print(type(myset).__name__)"
   ]
  },
  {
   "cell_type": "code",
   "execution_count": 14,
   "metadata": {},
   "outputs": [
    {
     "name": "stdout",
     "output_type": "stream",
     "text": [
      "{1, 2, 3, 5, 6}\n",
      "{2}\n",
      "{1, 3}\n",
      "{1, 3, 5, 6}\n"
     ]
    }
   ],
   "source": [
    "a = {1,2,3}\n",
    "b = {2,5,6}\n",
    "\n",
    "# UNION \n",
    "print(a|b)\n",
    "# intersection\n",
    "print(a&b)\n",
    "# difference \n",
    "print(a-b)\n",
    "# symetric difference\n",
    "\n",
    "print(a^b)"
   ]
  },
  {
   "cell_type": "code",
   "execution_count": 15,
   "metadata": {},
   "outputs": [
    {
     "name": "stdout",
     "output_type": "stream",
     "text": [
      "True\n"
     ]
    }
   ],
   "source": [
    "print(2 in myset)"
   ]
  },
  {
   "cell_type": "markdown",
   "metadata": {},
   "source": [
    "Removing Duplicates "
   ]
  },
  {
   "cell_type": "code",
   "execution_count": 17,
   "metadata": {},
   "outputs": [
    {
     "name": "stdout",
     "output_type": "stream",
     "text": [
      "[1, 2, 3, 4]\n"
     ]
    }
   ],
   "source": [
    "data = [1,2,3,2,3,4,3,2,4]\n",
    "unique_data = list(set(data))\n",
    "\n",
    "print(unique_data)"
   ]
  },
  {
   "cell_type": "code",
   "execution_count": 20,
   "metadata": {},
   "outputs": [
    {
     "name": "stdout",
     "output_type": "stream",
     "text": [
      "['growing', 'is', 'rapidly', 'powerful', 'and', 'ai']\n"
     ]
    }
   ],
   "source": [
    "text = \" AI  is powerful and Ai is growing rapidly\"\n",
    "uni_words = list(set(text.lower().split()))\n",
    "\n",
    "print(uni_words)"
   ]
  },
  {
   "cell_type": "code",
   "execution_count": 21,
   "metadata": {},
   "outputs": [],
   "source": [
    "def uniquewords(text):\n",
    "    return list(set(text.lower().split()))"
   ]
  },
  {
   "cell_type": "code",
   "execution_count": 22,
   "metadata": {},
   "outputs": [
    {
     "name": "stdout",
     "output_type": "stream",
     "text": [
      "['zia', 'iajkfsdfj', 'kdhf', 'hdhfsdkjh', 'jksdhfsdjkhg']\n"
     ]
    }
   ],
   "source": [
    "sen = input(\"text :\")\n",
    "print(uniquewords(sen))"
   ]
  },
  {
   "cell_type": "code",
   "execution_count": null,
   "metadata": {},
   "outputs": [],
   "source": []
  }
 ],
 "metadata": {
  "kernelspec": {
   "display_name": "Python 3",
   "language": "python",
   "name": "python3"
  },
  "language_info": {
   "codemirror_mode": {
    "name": "ipython",
    "version": 3
   },
   "file_extension": ".py",
   "mimetype": "text/x-python",
   "name": "python",
   "nbconvert_exporter": "python",
   "pygments_lexer": "ipython3",
   "version": "3.13.0"
  }
 },
 "nbformat": 4,
 "nbformat_minor": 2
}
