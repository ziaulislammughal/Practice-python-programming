{
 "cells": [
  {
   "cell_type": "code",
   "execution_count": 1,
   "metadata": {},
   "outputs": [
    {
     "name": "stdout",
     "output_type": "stream",
     "text": [
      "Error: Division by zero\n"
     ]
    }
   ],
   "source": [
    "try : \n",
    "    result = 10/0 \n",
    "except ZeroDivisionError:\n",
    "    print(\"Error: Division by zero\")"
   ]
  },
  {
   "cell_type": "code",
   "execution_count": 14,
   "metadata": {},
   "outputs": [
    {
     "name": "stdout",
     "output_type": "stream",
     "text": [
      "Error: division by zero\n"
     ]
    }
   ],
   "source": [
    "try :\n",
    "    num = int(input(\"Enter Number \"))\n",
    "    result = 10 / num \n",
    "except Exception as e :\n",
    "    print(f\"Error: {e}\")"
   ]
  },
  {
   "cell_type": "code",
   "execution_count": 15,
   "metadata": {},
   "outputs": [
    {
     "name": "stdout",
     "output_type": "stream",
     "text": [
      "Multiplication table of 25 is:\n",
      "\n",
      "25 x 1 = 25\n",
      "25 x 2 = 50\n",
      "25 x 3 = 75\n",
      "25 x 4 = 100\n",
      "25 x 5 = 125\n",
      "25 x 6 = 150\n",
      "25 x 7 = 175\n",
      "25 x 8 = 200\n",
      "25 x 9 = 225\n",
      "25 x 10 = 250\n",
      "Program ended successfully\n"
     ]
    }
   ],
   "source": [
    "\n",
    "\n",
    "try:\n",
    "    a = int(input(\"Enter a number: \"))\n",
    "    print(f\"Multiplication table of {a} is:\\n\")\n",
    "    for i in range(1, 11):\n",
    "        print(f\"{a} x {i} = {a * i}\")\n",
    "except Exception as e:\n",
    "    print(f\"An error occurred: {e}\")\n",
    "finally:\n",
    "    print(\"Program ended successfully\")"
   ]
  },
  {
   "cell_type": "markdown",
   "metadata": {},
   "source": [
    "# What is a Custom Error (raise) in Python?\n",
    "In Python, you can manually raise exceptions using the raise keyword. This is useful when you want to enforce specific rules in your program.\n",
    "\n",
    "🔹 Why Use raise for Custom Errors?\n",
    "✅ Ensures better debugging\n",
    "✅ Improves error handling in AI applications\n",
    "✅ Helps validate input data\n",
    "✅ Prevents unexpected crashes"
   ]
  },
  {
   "cell_type": "code",
   "execution_count": null,
   "metadata": {},
   "outputs": [],
   "source": [
    "raise Exception(\"tHIS IS Custom error : \")"
   ]
  },
  {
   "cell_type": "code",
   "execution_count": 21,
   "metadata": {},
   "outputs": [
    {
     "name": "stdout",
     "output_type": "stream",
     "text": [
      "age is 2\n"
     ]
    }
   ],
   "source": [
    "age =  int(input(\"Enter your age :\"))\n",
    "\n",
    "if age<0 :\n",
    "    raise Exception(\"age can not be negative.\")\n",
    "else: \n",
    "    print(f\"age is {age}\")"
   ]
  },
  {
   "cell_type": "code",
   "execution_count": null,
   "metadata": {},
   "outputs": [],
   "source": []
  },
  {
   "cell_type": "code",
   "execution_count": null,
   "metadata": {},
   "outputs": [],
   "source": []
  }
 ],
 "metadata": {
  "kernelspec": {
   "display_name": "Python 3",
   "language": "python",
   "name": "python3"
  },
  "language_info": {
   "codemirror_mode": {
    "name": "ipython",
    "version": 3
   },
   "file_extension": ".py",
   "mimetype": "text/x-python",
   "name": "python",
   "nbconvert_exporter": "python",
   "pygments_lexer": "ipython3",
   "version": "3.13.0"
  }
 },
 "nbformat": 4,
 "nbformat_minor": 2
}
