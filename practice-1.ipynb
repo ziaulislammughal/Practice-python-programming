{
 "cells": [
  {
   "cell_type": "markdown",
   "metadata": {},
   "source": [
    "# Data Types and Variables\n",
    "\n",
    "- Primitive data types (integers, floats, strings, booleans)\n",
    "- Variables and type casting"
   ]
  },
  {
   "cell_type": "markdown",
   "metadata": {},
   "source": [
    "# Declaring Variables with Different Datatypes "
   ]
  },
  {
   "cell_type": "code",
   "execution_count": 1,
   "metadata": {},
   "outputs": [
    {
     "name": "stdout",
     "output_type": "stream",
     "text": [
      "Age: 25\n",
      "Height: 5.9\n",
      "Name: Alice\n",
      "Is Student: True\n"
     ]
    }
   ],
   "source": [
    "# Integer variable\n",
    "age = 25\n",
    "print(\"Age:\", age)\n",
    "\n",
    "# Float variable\n",
    "height = 5.9\n",
    "print(\"Height:\", height)\n",
    "\n",
    "# String variable\n",
    "name = \"Alice\"\n",
    "print(\"Name:\", name)\n",
    "\n",
    "# Boolean variable\n",
    "is_student = True\n",
    "print(\"Is Student:\", is_student)\n"
   ]
  },
  {
   "cell_type": "markdown",
   "metadata": {},
   "source": [
    "# Checking Data Types Using type()"
   ]
  },
  {
   "cell_type": "code",
   "execution_count": 2,
   "metadata": {},
   "outputs": [
    {
     "name": "stdout",
     "output_type": "stream",
     "text": [
      "<class 'int'>\n",
      "-----------------------------------------------------\n",
      "<class 'float'>\n",
      "-----------------------------------------------------\n",
      "<class 'str'>\n",
      "-----------------------------------------------------\n",
      "<class 'str'>\n",
      "-----------------------------------------------------\n",
      "<class 'bool'>\n"
     ]
    }
   ],
   "source": [
    "age = 25 \n",
    "print(type(age))\n",
    "print(\"-----------------------------------------------------\")\n",
    "height = 1.23\n",
    "print(type(height))\n",
    "print(\"-----------------------------------------------------\")\n",
    "\n",
    "name = \"ZIA UL ISLAM MUGHAL\"\n",
    "print(type(name))\n",
    "print(\"-----------------------------------------------------\")\n",
    "\n",
    "m_string = \"\"\"zia \n",
    "ul \n",
    "isllam \"\"\"\n",
    "print(type(m_string))\n",
    "print(\"-----------------------------------------------------\")\n",
    "\n",
    "is_student = True \n",
    "print(type(is_student))\n",
    "\n"
   ]
  },
  {
   "cell_type": "markdown",
   "metadata": {},
   "source": [
    "# Basic Type Casting (Integer to Float)"
   ]
  },
  {
   "cell_type": "code",
   "execution_count": 3,
   "metadata": {},
   "outputs": [
    {
     "name": "stdout",
     "output_type": "stream",
     "text": [
      "original value is :            10\n",
      "Value after type casting is :  10.0\n"
     ]
    }
   ],
   "source": [
    "int_value = 10 \n",
    "float_value = float(int_value)\n",
    "\n",
    "print(\"original value is :           \" , int_value)\n",
    "print(\"Value after type casting is : \" , float_value)"
   ]
  },
  {
   "cell_type": "markdown",
   "metadata": {},
   "source": [
    "# Type Casting (Float to Integer)"
   ]
  },
  {
   "cell_type": "code",
   "execution_count": 4,
   "metadata": {},
   "outputs": [
    {
     "name": "stdout",
     "output_type": "stream",
     "text": [
      "original value is :            50.2\n",
      "Value after type casting is :  50\n"
     ]
    }
   ],
   "source": [
    "flt_v = 50.2\n",
    "int_v = int(flt_v)\n",
    "\n",
    "print(\"original value is :           \" , flt_v)\n",
    "print(\"Value after type casting is : \" , int_v)"
   ]
  },
  {
   "cell_type": "markdown",
   "metadata": {},
   "source": [
    "#  Type Casting (Integer to String)"
   ]
  },
  {
   "cell_type": "code",
   "execution_count": 5,
   "metadata": {},
   "outputs": [
    {
     "name": "stdout",
     "output_type": "stream",
     "text": [
      "Original score is :  100\n",
      "Data type is  <class 'int'>\n",
      "After typecasting :  100\n",
      "Data type is  <class 'str'>\n"
     ]
    }
   ],
   "source": [
    "score = 100 \n",
    "print(\"Original score is : \" , score )\n",
    "print(\"Data type is \" , type(score))\n",
    "str_score = str(score)\n",
    "print(\"After typecasting : \" , str_score)\n",
    "print(\"Data type is \" , type(str_score))"
   ]
  },
  {
   "cell_type": "markdown",
   "metadata": {},
   "source": [
    "# Type Casting (String to Integer and Float) "
   ]
  },
  {
   "cell_type": "code",
   "execution_count": 6,
   "metadata": {},
   "outputs": [
    {
     "name": "stdout",
     "output_type": "stream",
     "text": [
      "150\n",
      "<class 'str'>\n",
      "150\n",
      "<class 'int'>\n",
      "150.0\n",
      "<class 'float'>\n"
     ]
    }
   ],
   "source": [
    "str_number = \"150\"\n",
    "print(str_number)\n",
    "print(type(str_number))\n",
    "int_nbr = int(str_number)\n",
    "flt_nbr = float(str_number)\n",
    "\n",
    "\n",
    "print(int_nbr)\n",
    "print(type(int_nbr))\n",
    "\n",
    "print(flt_nbr)\n",
    "print(type(flt_nbr))"
   ]
  },
  {
   "cell_type": "markdown",
   "metadata": {},
   "source": [
    "# Using Boolean Variables in Conditions"
   ]
  },
  {
   "cell_type": "code",
   "execution_count": 7,
   "metadata": {},
   "outputs": [
    {
     "name": "stdout",
     "output_type": "stream",
     "text": [
      "It's not raining today.\n"
     ]
    }
   ],
   "source": [
    "is_raining = False \n",
    "\n",
    "if is_raining: \n",
    "    print(\"It's raining today!\")\n",
    "else : \n",
    "    print(\"It's not raining today.\")"
   ]
  },
  {
   "cell_type": "code",
   "execution_count": 8,
   "metadata": {},
   "outputs": [
    {
     "name": "stdout",
     "output_type": "stream",
     "text": [
      "I am traveling today\n"
     ]
    }
   ],
   "source": [
    "Travel = True \n",
    "if Travel:\n",
    "    print(\"I am traveling today\")\n",
    "else:\n",
    "    print(\"I am not traveling today.\")"
   ]
  },
  {
   "cell_type": "markdown",
   "metadata": {},
   "source": [
    "#  Using Variables in Expressions"
   ]
  },
  {
   "cell_type": "code",
   "execution_count": 9,
   "metadata": {},
   "outputs": [
    {
     "name": "stdout",
     "output_type": "stream",
     "text": [
      "Area :  717.09\n"
     ]
    }
   ],
   "source": [
    "width = 12.3 \n",
    "height = 58.3 \n",
    "\n",
    "area = width * height \n",
    "\n",
    "print(\"Area : \" , area )"
   ]
  },
  {
   "cell_type": "markdown",
   "metadata": {},
   "source": [
    "#  Concatenating Strings and Variables"
   ]
  },
  {
   "cell_type": "code",
   "execution_count": 10,
   "metadata": {},
   "outputs": [
    {
     "name": "stdout",
     "output_type": "stream",
     "text": [
      "Full Name :  Zia ul islam Mughal\n"
     ]
    }
   ],
   "source": [
    "first_name = \"Zia\"\n",
    "second_name = \"ul islam\"\n",
    "third_name = \"Mughal\"\n",
    "#  concatenating string with variable \n",
    "\n",
    "full_name = first_name + \" \" + second_name + \" \" + third_name\n",
    "print(\"Full Name : \" , full_name )\n"
   ]
  },
  {
   "cell_type": "markdown",
   "metadata": {},
   "source": [
    "# Boolean Evaluation of Different Data Types"
   ]
  },
  {
   "cell_type": "code",
   "execution_count": 11,
   "metadata": {},
   "outputs": [
    {
     "name": "stdout",
     "output_type": "stream",
     "text": [
      "False\n",
      "True\n",
      "True\n"
     ]
    }
   ],
   "source": [
    "x = 0\n",
    "y = \"Hello\"\n",
    "z = 2.34\n",
    "\n",
    "print(bool(x))\n",
    "print(bool(y))\n",
    "print(bool(z))"
   ]
  },
  {
   "cell_type": "markdown",
   "metadata": {},
   "source": [
    "# Swapping Variable Values"
   ]
  },
  {
   "cell_type": "code",
   "execution_count": 12,
   "metadata": {},
   "outputs": [
    {
     "name": "stdout",
     "output_type": "stream",
     "text": [
      "10\n",
      "20\n",
      "----------------------\n",
      "20\n",
      "10\n"
     ]
    }
   ],
   "source": [
    "a = 10              \n",
    "b = 20 \n",
    "print(a)\n",
    "print(b)\n",
    "\n",
    "\n",
    "print(\"----------------------\")\n",
    "temp = a \n",
    "\n",
    "a = b \n",
    "\n",
    "b = temp \n",
    "\n",
    "print(a)\n",
    "print(b)"
   ]
  },
  {
   "cell_type": "markdown",
   "metadata": {},
   "source": [
    "# Multi-Variable Assignment"
   ]
  },
  {
   "cell_type": "code",
   "execution_count": 13,
   "metadata": {},
   "outputs": [
    {
     "name": "stdout",
     "output_type": "stream",
     "text": [
      "10\n",
      "10\n",
      "10\n"
     ]
    }
   ],
   "source": [
    "x=y=z = 10 \n",
    "\n",
    "print(x)    \n",
    "\n",
    "print(y)\n",
    "\n",
    "print(z)"
   ]
  },
  {
   "cell_type": "code",
   "execution_count": 14,
   "metadata": {},
   "outputs": [
    {
     "name": "stdout",
     "output_type": "stream",
     "text": [
      "x: 1 y: 2.5 z: Hello\n"
     ]
    }
   ],
   "source": [
    "x, y, z = 1, 2.5, \"Hello\"\n",
    "print(\"x:\", x, \"y:\", y, \"z:\", z)"
   ]
  },
  {
   "cell_type": "markdown",
   "metadata": {},
   "source": [
    "# Converting Different Data Types to String and Concatenation"
   ]
  },
  {
   "cell_type": "code",
   "execution_count": 15,
   "metadata": {},
   "outputs": [
    {
     "name": "stdout",
     "output_type": "stream",
     "text": [
      " Zia has 30 , and height is 4.3\n"
     ]
    }
   ],
   "source": [
    "name = \"Zia\"\n",
    "age = 30 \n",
    "height = 4.3 \n",
    "\n",
    "info = name + \" is \" + str(age) + \" years old and  \" + str(height) + \" feet tall.\"\n",
    "n_info = f\" {name} has {age} , and height is {height}\"\n",
    "print(n_info)"
   ]
  },
  {
   "cell_type": "markdown",
   "metadata": {},
   "source": [
    "# Rounding Float Values to Integer"
   ]
  },
  {
   "cell_type": "code",
   "execution_count": 16,
   "metadata": {},
   "outputs": [
    {
     "name": "stdout",
     "output_type": "stream",
     "text": [
      "50\n"
     ]
    }
   ],
   "source": [
    "value = 50.3 \n",
    "\n",
    "value = round(value)\n",
    "\n",
    "print(value)"
   ]
  }
 ],
 "metadata": {
  "kernelspec": {
   "display_name": "Python 3",
   "language": "python",
   "name": "python3"
  },
  "language_info": {
   "codemirror_mode": {
    "name": "ipython",
    "version": 3
   },
   "file_extension": ".py",
   "mimetype": "text/x-python",
   "name": "python",
   "nbconvert_exporter": "python",
   "pygments_lexer": "ipython3",
   "version": "3.12.4"
  }
 },
 "nbformat": 4,
 "nbformat_minor": 2
}
