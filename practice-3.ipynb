{
 "cells": [
  {
   "cell_type": "markdown",
   "metadata": {},
   "source": [
    "# Basic Calculator Using Functions and Modules\n",
    "Create a calculator with functions for \n",
    "- addition \n",
    "- subtraction \n",
    "- multiplication  \n",
    "- division."
   ]
  },
  {
   "cell_type": "code",
   "execution_count": 2,
   "metadata": {},
   "outputs": [],
   "source": [
    "def add(x,y):\n",
    "    return x + y \n",
    "\n",
    "def subtract(x,y):\n",
    "    return x - y\n",
    "\n",
    "def multiply(x,y):\n",
    "    return x * y\n",
    "\n",
    "def divide(x,y):\n",
    "    if y != 0:\n",
    "        return x / y \n",
    "    else:\n",
    "        print(\"Can not divided by Zero\")\n",
    "        \n",
    "    "
   ]
  },
  {
   "cell_type": "code",
   "execution_count": 5,
   "metadata": {},
   "outputs": [
    {
     "name": "stdout",
     "output_type": "stream",
     "text": [
      "Result : 12.0\n"
     ]
    }
   ],
   "source": [
    "x = float(input(\"Enter number\"))\n",
    "y = float(input(\"Enter Number\"))\n",
    "operation = input(\"Enter opertion(+,*,-,/)\")\n",
    "\n",
    "if operation == \"+\":\n",
    "    print(\"Result :\" , add(x,y))\n",
    "elif operation == \"*\":\n",
    "    print(\"Result :\" , multiply(x,y))\n",
    "elif operation == \"-\":\n",
    "    print(\"Result :\" , subtract(x,y))\n",
    "elif operation == \"/\":\n",
    "    print(\"Results : \" , divide(x,y))\n",
    "else:\n",
    "    print(\"Invalid operation\")\n",
    "\n",
    "\n"
   ]
  },
  {
   "cell_type": "markdown",
   "metadata": {},
   "source": [
    "# Function with Default Arguments\n",
    "Create a function that calculates the final price of a product after tax, with a default tax rate. Allow the user to override the default tax rate."
   ]
  },
  {
   "cell_type": "code",
   "execution_count": 7,
   "metadata": {},
   "outputs": [
    {
     "name": "stdout",
     "output_type": "stream",
     "text": [
      "Price with default tax rate  105.0\n",
      "-----------------------------------\n",
      "Price with custom tax rate  120.0\n"
     ]
    }
   ],
   "source": [
    "\n",
    "def calculate_final_price (price , tax_rate = 0.05):\n",
    "    return price + (price * tax_rate)\n",
    "\n",
    "print(\"Price with default tax rate \", calculate_final_price(100))\n",
    "print(\"-----------------------------------\")\n",
    "print(\"Price with custom tax rate \", calculate_final_price(100,0.2))\n",
    "\n"
   ]
  },
  {
   "cell_type": "markdown",
   "metadata": {},
   "source": [
    "# Recursive Function\n",
    "Write a recursive function to calculate the factorial of a number. Test the function with different inputs."
   ]
  },
  {
   "cell_type": "code",
   "execution_count": 8,
   "metadata": {},
   "outputs": [
    {
     "name": "stdout",
     "output_type": "stream",
     "text": [
      "Factorial of 5 is  120\n"
     ]
    }
   ],
   "source": [
    "def factorial(n):\n",
    "    if n == 0 :\n",
    "        return 1 \n",
    "    return n * factorial(n-1)\n",
    "\n",
    "print(\"Factorial of 5 is \", factorial(5))"
   ]
  },
  {
   "cell_type": "code",
   "execution_count": 9,
   "metadata": {},
   "outputs": [
    {
     "name": "stdout",
     "output_type": "stream",
     "text": [
      "10 -6 16 0.25\n"
     ]
    }
   ],
   "source": [
    "def calculate_operations(a,b):\n",
    "    return a+b , a-b , a*b , a /b if b != 0 else \"Division by zero \"\n",
    "\n",
    "sum , sub , mult, div = calculate_operations(2,8)\n",
    "print(sum , sub , mult, div )"
   ]
  },
  {
   "cell_type": "code",
   "execution_count": 38,
   "metadata": {},
   "outputs": [],
   "source": [
    "def count_vowels(s):\n",
    "    return sum(1 for char in s if char.lower() in \"aeious\")"
   ]
  },
  {
   "cell_type": "code",
   "execution_count": null,
   "metadata": {},
   "outputs": [
    {
     "name": "stdout",
     "output_type": "stream",
     "text": [
      "squares :  [1, 4, 9, 16, 25, 36, 49, 64, 81]\n"
     ]
    }
   ],
   "source": [
    "def square(num):\n",
    "    return list(map(lambda x : x**2 , num ))\n",
    "\n",
    "print(\"squares : \" , square([1,2,3,4,5,6,7,8,9]))"
   ]
  },
  {
   "cell_type": "code",
   "execution_count": 1,
   "metadata": {},
   "outputs": [
    {
     "name": "stdout",
     "output_type": "stream",
     "text": [
      "Area of Circle :  1393431.174\n"
     ]
    }
   ],
   "source": [
    "def calculate_area(radius):\n",
    "    return 3.1415 * radius ** 2 \n",
    "\n",
    "print(\"Area of Circle : \", calculate_area(666))"
   ]
  },
  {
   "cell_type": "code",
   "execution_count": 3,
   "metadata": {},
   "outputs": [
    {
     "name": "stdout",
     "output_type": "stream",
     "text": [
      "Hellow Zia , how may i help you ?\n"
     ]
    }
   ],
   "source": [
    "def greeting(name):\n",
    "    return f\"Hellow {name} , how may i help you ?\"\n",
    "\n",
    "print(greeting(\"Zia\"))"
   ]
  },
  {
   "cell_type": "code",
   "execution_count": 4,
   "metadata": {},
   "outputs": [],
   "source": [
    "def check_even(num):\n",
    "    if num%2 == 0 :\n",
    "        print(\"Even Number\")\n",
    "    else:\n",
    "        print(\"Odd Number\")"
   ]
  },
  {
   "cell_type": "code",
   "execution_count": 5,
   "metadata": {},
   "outputs": [
    {
     "name": "stdout",
     "output_type": "stream",
     "text": [
      "Even Number\n"
     ]
    }
   ],
   "source": [
    "check_even(435356)"
   ]
  },
  {
   "cell_type": "code",
   "execution_count": 6,
   "metadata": {},
   "outputs": [],
   "source": [
    "def factorial(n):\n",
    "    reuslt  = 1 \n",
    "    for i in range(1 , n+1):\n",
    "        reuslt = reuslt * i \n",
    "    return reuslt"
   ]
  },
  {
   "cell_type": "code",
   "execution_count": 7,
   "metadata": {},
   "outputs": [
    {
     "name": "stdout",
     "output_type": "stream",
     "text": [
      "Factorial :  24\n"
     ]
    }
   ],
   "source": [
    "print(\"Factorial : \", factorial(4))"
   ]
  },
  {
   "cell_type": "code",
   "execution_count": 8,
   "metadata": {},
   "outputs": [],
   "source": [
    "def convert_f_to_c(f):\n",
    "    return (f-32) * 5 / 9"
   ]
  },
  {
   "cell_type": "code",
   "execution_count": 9,
   "metadata": {},
   "outputs": [
    {
     "name": "stdout",
     "output_type": "stream",
     "text": [
      "100 Farhenheit in celsius: 37.77777777777778\n"
     ]
    }
   ],
   "source": [
    "print(\"100 Farhenheit in celsius:\" , convert_f_to_c(100))"
   ]
  },
  {
   "cell_type": "markdown",
   "metadata": {},
   "source": [
    "# Anonymous (Lambda) Functions\n",
    "Lambda functions are small, anonymous functions that are typically used for short tasks."
   ]
  },
  {
   "cell_type": "code",
   "execution_count": 12,
   "metadata": {},
   "outputs": [
    {
     "name": "stdout",
     "output_type": "stream",
     "text": [
      "sum is  8\n"
     ]
    }
   ],
   "source": [
    "add = lambda x,y : x+y\n",
    "print(\"sum is \" , add(3,5))"
   ]
  },
  {
   "cell_type": "code",
   "execution_count": null,
   "metadata": {},
   "outputs": [
    {
     "name": "stdout",
     "output_type": "stream",
     "text": [
      "Square of is  16\n"
     ]
    }
   ],
   "source": [
    "square = lambda num : num**2\n",
    "print(\"Square of is \" , square(4))"
   ]
  },
  {
   "cell_type": "code",
   "execution_count": 15,
   "metadata": {},
   "outputs": [
    {
     "data": {
      "text/plain": [
       "4"
      ]
     },
     "execution_count": 15,
     "metadata": {},
     "output_type": "execute_result"
    }
   ],
   "source": [
    "square(2)"
   ]
  },
  {
   "cell_type": "code",
   "execution_count": 16,
   "metadata": {},
   "outputs": [
    {
     "name": "stdout",
     "output_type": "stream",
     "text": [
      "Maximum number is : 6\n"
     ]
    }
   ],
   "source": [
    "max_num = lambda a,b : a if a > b else b \n",
    "print(\"Maximum number is :\", max_num(5,6))"
   ]
  },
  {
   "cell_type": "code",
   "execution_count": 17,
   "metadata": {},
   "outputs": [
    {
     "name": "stdout",
     "output_type": "stream",
     "text": [
      "Conver it : KDFJKDSJFKASDJFKSDJFJDSFKJSDFKJDSLFKJDSFJDSKJFSDKJFSKDJFSKDJFSDKJFSKDJFKDSJF\n"
     ]
    }
   ],
   "source": [
    "to_upper = lambda s : s.upper()\n",
    "print(\"Conver it :\" , to_upper(\"kdfjkdsjfkasdjfksdjfjdsfkjsdfkjdslfkjdsfjdskjfsdkjfskdjfskdjfsdkjfskdjfkdsjf\") )"
   ]
  },
  {
   "cell_type": "code",
   "execution_count": 19,
   "metadata": {},
   "outputs": [],
   "source": [
    "is_div_by3 = lambda num : num%3 == 0 \n",
    "\n"
   ]
  },
  {
   "cell_type": "code",
   "execution_count": 20,
   "metadata": {},
   "outputs": [
    {
     "data": {
      "text/plain": [
       "True"
      ]
     },
     "execution_count": 20,
     "metadata": {},
     "output_type": "execute_result"
    }
   ],
   "source": [
    "is_div_by3(9)"
   ]
  },
  {
   "cell_type": "code",
   "execution_count": 21,
   "metadata": {},
   "outputs": [],
   "source": [
    "def sum_all(*arg):\n",
    "    return sum(arg)"
   ]
  },
  {
   "cell_type": "code",
   "execution_count": 22,
   "metadata": {},
   "outputs": [
    {
     "data": {
      "text/plain": [
       "208"
      ]
     },
     "execution_count": 22,
     "metadata": {},
     "output_type": "execute_result"
    }
   ],
   "source": [
    "sum_all(1,26,67,64,4,7,6,8,5,4,7,6,3)"
   ]
  },
  {
   "cell_type": "code",
   "execution_count": 23,
   "metadata": {},
   "outputs": [],
   "source": [
    "def display_info(**kwargs):\n",
    "    for key , value in kwargs.items():\n",
    "        print(f\"{key} : { value}\") "
   ]
  },
  {
   "cell_type": "code",
   "execution_count": 24,
   "metadata": {},
   "outputs": [
    {
     "name": "stdout",
     "output_type": "stream",
     "text": [
      "name : Zia\n",
      "age : 34\n",
      "city :  mzd \n"
     ]
    }
   ],
   "source": [
    "display_info(name = \"Zia\", age = 34 , city = \" mzd \")"
   ]
  },
  {
   "cell_type": "code",
   "execution_count": null,
   "metadata": {},
   "outputs": [],
   "source": []
  }
 ],
 "metadata": {
  "kernelspec": {
   "display_name": "Python 3",
   "language": "python",
   "name": "python3"
  },
  "language_info": {
   "codemirror_mode": {
    "name": "ipython",
    "version": 3
   },
   "file_extension": ".py",
   "mimetype": "text/x-python",
   "name": "python",
   "nbconvert_exporter": "python",
   "pygments_lexer": "ipython3",
   "version": "3.12.4"
  }
 },
 "nbformat": 4,
 "nbformat_minor": 2
}
