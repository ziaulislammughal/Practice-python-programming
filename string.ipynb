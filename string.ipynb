{
 "cells": [
  {
   "cell_type": "markdown",
   "metadata": {},
   "source": [
    "# String with loops "
   ]
  },
  {
   "cell_type": "code",
   "execution_count": 1,
   "metadata": {},
   "outputs": [
    {
     "name": "stdout",
     "output_type": "stream",
     "text": [
      "hellow world\n"
     ]
    }
   ],
   "source": [
    "print(\"hellow world\")"
   ]
  },
  {
   "cell_type": "code",
   "execution_count": 2,
   "metadata": {},
   "outputs": [
    {
     "name": "stdout",
     "output_type": "stream",
     "text": [
      "12\n",
      "Character at  0 is h\n",
      "Character at  1 is e\n",
      "Character at  2 is l\n",
      "Character at  3 is l\n",
      "Character at  4 is o\n",
      "Character at  5 is w\n",
      "Character at  6 is  \n",
      "Character at  7 is w\n",
      "Character at  8 is o\n",
      "Character at  9 is r\n",
      "Character at  10 is l\n",
      "Character at  11 is d\n"
     ]
    }
   ],
   "source": [
    "text = \"hellow world\"\n",
    "length = len(text)\n",
    "print(length)\n",
    "for char in range(len(text)) :\n",
    "    print(f\"Character at  {char} is {text[char]}\")"
   ]
  },
  {
   "cell_type": "code",
   "execution_count": 3,
   "metadata": {},
   "outputs": [
    {
     "name": "stdout",
     "output_type": "stream",
     "text": [
      "character w : index 0\n",
      "character o : index 1\n",
      "character r : index 2\n",
      "character k : index 3\n",
      "character i : index 4\n",
      "character n : index 5\n",
      "character g : index 6\n",
      "character   : index 7\n",
      "character o : index 8\n",
      "character n : index 9\n",
      "character   : index 10\n",
      "character p : index 11\n",
      "character y : index 12\n",
      "character t : index 13\n",
      "character h : index 14\n",
      "character o : index 15\n",
      "character n : index 16\n",
      "character   : index 17\n",
      "character l : index 18\n",
      "character a : index 19\n",
      "character n : index 20\n",
      "character g : index 21\n",
      "character u : index 22\n",
      "character a : index 23\n",
      "character g : index 24\n",
      "character e : index 25\n",
      "character   : index 26\n"
     ]
    }
   ],
   "source": [
    "sentence = \"working on python language \" \n",
    "for index , char in enumerate(sentence):\n",
    "    print(f\"character {char} : index {index}\")"
   ]
  },
  {
   "cell_type": "code",
   "execution_count": 4,
   "metadata": {},
   "outputs": [
    {
     "name": "stdout",
     "output_type": "stream",
     "text": [
      " \n",
      "e\n",
      "g\n",
      "a\n",
      "u\n",
      "g\n",
      "n\n",
      "a\n",
      "l\n",
      " \n",
      "n\n",
      "o\n",
      "h\n",
      "t\n",
      "y\n",
      "p\n",
      " \n",
      "n\n",
      "o\n",
      " \n",
      "g\n",
      "n\n",
      "i\n",
      "k\n",
      "r\n",
      "o\n",
      "w\n"
     ]
    }
   ],
   "source": [
    "for char in reversed(sentence):\n",
    "    print(char)"
   ]
  },
  {
   "cell_type": "code",
   "execution_count": 5,
   "metadata": {},
   "outputs": [
    {
     "name": "stdout",
     "output_type": "stream",
     "text": [
      "1\n"
     ]
    }
   ],
   "source": [
    "def countvowels(text):\n",
    "    count=0\n",
    "    vowels = \"aeiou\"\n",
    "    for char in text.lower():\n",
    "        if char in vowels:\n",
    "            count += 1\n",
    "            return count\n",
    "        \n",
    "print(countvowels(sentence))"
   ]
  },
  {
   "cell_type": "code",
   "execution_count": 6,
   "metadata": {},
   "outputs": [
    {
     "name": "stdout",
     "output_type": "stream",
     "text": [
      "h\n",
      "e\n",
      "l\n",
      "l\n",
      "o\n",
      "w\n",
      " \n",
      "w\n",
      "o\n",
      "r\n",
      "l\n",
      "d\n"
     ]
    }
   ],
   "source": [
    "i = 0 \n",
    "while i < len(text):\n",
    "    print(text[i])\n",
    "    i += 1"
   ]
  },
  {
   "cell_type": "markdown",
   "metadata": {},
   "source": [
    "# list "
   ]
  },
  {
   "cell_type": "code",
   "execution_count": 7,
   "metadata": {},
   "outputs": [
    {
     "name": "stdout",
     "output_type": "stream",
     "text": [
      "1\n",
      "2\n",
      "5\n",
      "7\n",
      "2.3\n",
      "zia\n",
      "naeem\n"
     ]
    }
   ],
   "source": [
    "list = [1 ,2,5,7,2.3,\"zia\",\"naeem\"]\n",
    "for i in list:\n",
    "    print(i)"
   ]
  },
  {
   "cell_type": "markdown",
   "metadata": {},
   "source": [
    "# Format string "
   ]
  },
  {
   "cell_type": "markdown",
   "metadata": {},
   "source": [
    "Basic Variable Substitution"
   ]
  },
  {
   "cell_type": "code",
   "execution_count": 9,
   "metadata": {},
   "outputs": [
    {
     "name": "stdout",
     "output_type": "stream",
     "text": [
      "Hellow ali\n"
     ]
    }
   ],
   "source": [
    "name = input(\"Enter your name: \")\n",
    "print(f\"Hellow {name}\")"
   ]
  },
  {
   "cell_type": "markdown",
   "metadata": {},
   "source": [
    "Expression inside f string "
   ]
  },
  {
   "cell_type": "code",
   "execution_count": 10,
   "metadata": {},
   "outputs": [
    {
     "name": "stdout",
     "output_type": "stream",
     "text": [
      "5 and 2 has sum = 7\n"
     ]
    }
   ],
   "source": [
    "num = int(input(\"enter number \"))\n",
    "num2 = int(input(\"enter number \"))\n",
    "\n",
    "print(f\"{num} and {num2} has sum = {num+num2}\")"
   ]
  },
  {
   "cell_type": "markdown",
   "metadata": {},
   "source": [
    "using Functions "
   ]
  },
  {
   "cell_type": "code",
   "execution_count": 16,
   "metadata": {},
   "outputs": [
    {
     "name": "stdout",
     "output_type": "stream",
     "text": [
      "The code `def mult(a, b): return a * b`\n",
      "defines a function named `mult` that takes \n",
      "two parameters `a` and `b`, and returns the result of multiplying these two parameters. This function essentially performs multiplication of two numbers.\n",
      "\n",
      "25 x 22 = 550\n"
     ]
    }
   ],
   "source": [
    "def mult(a ,b):\n",
    "    '''The code `def mult(a, b): return a * b`\n",
    "defines a function named `mult` that takes \n",
    "two parameters `a` and `b`, and returns the result of multiplying these two parameters. This function essentially performs multiplication of two numbers.\n",
    "'''\n",
    "    return a*b\n",
    "\n",
    "num1 = int(input(\"enter number \"))\n",
    "num3 = int(input(\"enter number \"))\n",
    "print(mult.__doc__)\n",
    "print(f\"{num1} x {num3} = {mult(num1,num3)}\")\n"
   ]
  },
  {
   "cell_type": "markdown",
   "metadata": {},
   "source": [
    "formating numbers"
   ]
  },
  {
   "cell_type": "code",
   "execution_count": 13,
   "metadata": {},
   "outputs": [
    {
     "name": "stdout",
     "output_type": "stream",
     "text": [
      "1245.2325545 = 1245.23255\n"
     ]
    }
   ],
   "source": [
    "salary = 1245.2325545\n",
    "print(f\"{salary} = {salary:.5f}\")"
   ]
  },
  {
   "cell_type": "markdown",
   "metadata": {},
   "source": [
    "# Doc String "
   ]
  },
  {
   "cell_type": "markdown",
   "metadata": {},
   "source": [
    "description  with function "
   ]
  },
  {
   "cell_type": "code",
   "execution_count": 15,
   "metadata": {},
   "outputs": [
    {
     "name": "stdout",
     "output_type": "stream",
     "text": [
      "kjfkds\n",
      "- kdjjfl\n",
      "- kdfjdsk\n",
      "jf\n"
     ]
    }
   ],
   "source": [
    "'''kjfkds\n",
    "- kdjjfl\n",
    "- kdfjdsk\n",
    "jf'''\n",
    "\n",
    "\n",
    "print(__doc__)"
   ]
  },
  {
   "cell_type": "code",
   "execution_count": null,
   "metadata": {},
   "outputs": [],
   "source": []
  }
 ],
 "metadata": {
  "kernelspec": {
   "display_name": "Python 3",
   "language": "python",
   "name": "python3"
  },
  "language_info": {
   "codemirror_mode": {
    "name": "ipython",
    "version": 3
   },
   "file_extension": ".py",
   "mimetype": "text/x-python",
   "name": "python",
   "nbconvert_exporter": "python",
   "pygments_lexer": "ipython3",
   "version": "3.13.0"
  }
 },
 "nbformat": 4,
 "nbformat_minor": 2
}
